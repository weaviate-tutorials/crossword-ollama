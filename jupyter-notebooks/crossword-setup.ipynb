{
 "cells": [
  {
   "cell_type": "markdown",
   "metadata": {},
   "source": [
    "This notebook sets up a database and installs python modules to use with the crossword generator project. \n",
    "\n"
   ]
  },
  {
   "cell_type": "markdown",
   "metadata": {},
   "source": [
    "### Install the Weaviate client"
   ]
  },
  {
   "cell_type": "code",
   "execution_count": null,
   "metadata": {},
   "outputs": [],
   "source": [
    "# Uncomment to clear your current pip cache\n",
    "# !pip cache purge\n",
    "\n",
    "# Uncomment to upgrade pip\n",
    "# !pip install --upgrade pip\n",
    "\n",
    "# Install client from public released\n",
    "!pip3 install --no-cache -U \"weaviate-client==4.*\"\n",
    "\n",
    "# Check installed client version\n",
    "!pip show weaviate-client | grep Version"
   ]
  },
  {
   "cell_type": "markdown",
   "metadata": {},
   "source": [
    "### Install additional Python libraries"
   ]
  },
  {
   "cell_type": "code",
   "execution_count": null,
   "metadata": {},
   "outputs": [],
   "source": [
    "# # Import tqdm progress monitor\n",
    "# !pip install tqdm\n",
    "\n",
    "# # Import the Ollama python client\n",
    "# !pip install ollama\n",
    "\n",
    "# # Import spacy named entity recognition for puzzle generation\n",
    "# #   It might take a few minutes to build spacy and setup the data\n",
    "# !pip install spacy\n",
    "# !python -m spacy download en_core_web_sm"
   ]
  },
  {
   "cell_type": "markdown",
   "metadata": {},
   "source": [
    "### Install Ollama\n",
    "\n",
    "Install an LLM and an embedding model.\n",
    "\n",
    "Ollam should start after you install it. To check if Ollama is running, open localhost:11434 in a browser"
   ]
  },
  {
   "cell_type": "code",
   "execution_count": null,
   "metadata": {},
   "outputs": [],
   "source": [
    "# # Uncomment to install Ollama\n",
    "# !ollama pull llama3         # The LLM\n",
    "# !ollama pull all-minilm     # For embeddings"
   ]
  },
  {
   "cell_type": "markdown",
   "metadata": {},
   "source": [
    "### Connect the client to a local Weaviate instance\n"
   ]
  },
  {
   "cell_type": "code",
   "execution_count": null,
   "metadata": {},
   "outputs": [],
   "source": [
    "import weaviate\n",
    "\n",
    "client = weaviate.connect_to_local()\n",
    "\n",
    "# Uncomment to check the connection\n",
    "client.is_ready()"
   ]
  },
  {
   "cell_type": "markdown",
   "metadata": {},
   "source": [
    "### Check if the Ollama module is enabled in Weaviate\n",
    "\n",
    "If the Ollama modules are not configured, enable the `text2vec-ollama` module and the `generative-ollama` module in your Weaviate [configuration file](/developers/weaviate/installation#configuration-files)."
   ]
  },
  {
   "cell_type": "code",
   "execution_count": 3,
   "metadata": {},
   "outputs": [],
   "source": [
    "meta_info = client.get_meta()\n",
    "if 'text2vec-ollama' not in meta_info[\"modules\"] :\n",
    "    print(\"Enable the text2vec-ollama module.\")\n",
    "\n",
    "if 'generative-ollama' not in meta_info[\"modules\"] :\n",
    "    print(\"Enable the generative-ollama module.\")\n"
   ]
  },
  {
   "cell_type": "markdown",
   "metadata": {},
   "source": [
    "### Set the collection name\n",
    "\n",
    "You will need a collection to store your data. This code lets you choose a collection name and cleans up any earlier versions if they exist."
   ]
  },
  {
   "cell_type": "code",
   "execution_count": null,
   "metadata": {},
   "outputs": [],
   "source": [
    "# Set the collection name\n",
    "collection_name = \"CrosswordPuzzles\"\n",
    "\n",
    "# Uncomment to remove old versions of this collection\n",
    "if (client.collections.exists(collection_name)):\n",
    "    client.collections.delete(collection_name)\n",
    "    print(f\"Removed old collection: {collection_name}\")"
   ]
  },
  {
   "cell_type": "markdown",
   "metadata": {},
   "source": [
    "### Define a collection\n",
    "\n",
    "The local collection holds some books from [Project Gutenberg](https://www.gutenberg.org/).\n",
    "\n",
    "This definition is very basic. When the books in the database are converted to vector embeddings below, they aren't given any meta-data to record as properties here.  "
   ]
  },
  {
   "cell_type": "code",
   "execution_count": null,
   "metadata": {},
   "outputs": [],
   "source": [
    "\n",
    "from weaviate.classes.config import Property, DataType, Configure\n",
    "\n",
    "# lets create the collection, specifing our base url accordingling\n",
    "collection = client.collections.create(\n",
    "    name=collection_name,\n",
    "    description=\"Source texts for puzzles\",\n",
    "    properties=[\n",
    "        Property(name=\"text\", data_type=DataType.TEXT),\n",
    "    ],\n",
    "    vectorizer_config=Configure.Vectorizer.text2vec_ollama(\n",
    "        api_endpoint=\"http://localhost:11434\",\n",
    "        model=\"all-minilm\"\n",
    "    ),\n",
    "    generative_config=Configure.Generative.ollama(\n",
    "        api_endpoint=\"http://localhost:11434\",\n",
    "        model=\"llama3\"\n",
    "    )\n",
    ")\n",
    "\n",
    "# # Uncomment to check the collection definition\n",
    "# collection_definition = client.collections.export_config(collection_name)\n",
    "# print(f\"Name: {collection_definition.name}     Description: {collection_definition.description}\")\n"
   ]
  },
  {
   "cell_type": "markdown",
   "metadata": {},
   "source": [
    "### Import the data into the collection\n",
    "\n",
    "Process some text files (books from Project Guttenberg) to use as project specific data. "
   ]
  },
  {
   "cell_type": "code",
   "execution_count": 20,
   "metadata": {},
   "outputs": [
    {
     "name": "stdout",
     "output_type": "stream",
     "text": [
      "['pg69700.txt', 'pg48320.txt', 'pg108.txt', 'pg66991.txt']\n"
     ]
    }
   ],
   "source": [
    "import os\n",
    "\n",
    "# Get a list of the sources\n",
    "source_dir = \"../inputs/\"\n",
    "source_files = [f for f in os.listdir(source_dir) if os.path.isfile(source_dir + \"/\" + f)]\n",
    "# print(source_files)\n",
    "\n",
    "for sf in source_files:\n",
    "    with open(sf, 'r') as f:\n",
    "        source_text = f.read()\n",
    "\n",
    "    print(f\"{f}: {len(f)}\")\n"
   ]
  },
  {
   "cell_type": "code",
   "execution_count": null,
   "metadata": {},
   "outputs": [],
   "source": [
    "### IMPORT WIKIPEDIA\n",
    "\n",
    "from datasets import load_dataset\n",
    "from tqdm import tqdm\n",
    "\n",
    "wikipedia = client.collections.get(collection)\n",
    "\n",
    "def import_wiki_data(lang, num_rows, skip_rows):\n",
    "    dataset = load_dataset(\"Cohere/wikipedia-2023-11-embed-multilingual-v3\", lang, split=\"train\", streaming=True)\n",
    "    dataset = dataset.skip(skip_rows)\n",
    "\n",
    "    # Edit to change the batch size\n",
    "    batch_size = 1000\n",
    "\n",
    "    counter = skip_rows\n",
    "\n",
    "    with wikipedia.batch.fixed_size(batch_size=batch_size, concurrent_requests=4) as batch:\n",
    "        for item in tqdm(dataset.skip(skip_rows),\n",
    "                         initial=skip_rows,\n",
    "                         total=num_rows\n",
    "                        ):\n",
    "            vector = item[\"emb\"]\n",
    "\n",
    "            data_to_insert = {\n",
    "                \"wiki_id\": item[\"_id\"],\n",
    "                \"text\": item[\"text\"],\n",
    "                \"title\": item[\"title\"],\n",
    "                \"url\": item[\"url\"],\n",
    "                \"lang\": lang,\n",
    "            }\n",
    "\n",
    "            batch.add_object(\n",
    "                properties=data_to_insert,\n",
    "                vector=vector\n",
    "            )\n",
    "\n",
    "            # stop after the request number reaches = num_rows\n",
    "            counter += 1\n",
    "            if counter >= num_rows:\n",
    "                break\n",
    "\n",
    "        # check for errors at the end\n",
    "        if (len(wikipedia.batch.failed_objects)>0):\n",
    "            print(f\"Errors {len(wikipedia.batch.failed_objects)}\")\n",
    "            print(wikipedia.batch.failed_objects[-1])\n",
    "\n",
    "        print(f\"Imported {counter} items for {lang}\")\n",
    "\n",
    "# Edit the value to change the import size\n",
    "#   The 'simple' variant has 646424 rows\n",
    "num_rows = 650000\n",
    "\n",
    "# edit the value to start in the middle of the data set\n",
    "skip_rows = 0\n",
    "\n",
    "# Uncomment the language to load data for it\n",
    "import_wiki_data(\"simple\", num_rows, skip_rows)\n",
    "# import_wiki_data(\"en\", num_rows, skip_rows)\n",
    "# import_wiki_data(\"es\", num_rows, skip_rows)\n",
    "# import_wiki_data(\"de\", num_rows, skip_rows)\n",
    "# import_wiki_data(\"fr\", num_rows, skip_rows)\n"
   ]
  },
  {
   "cell_type": "code",
   "execution_count": null,
   "metadata": {},
   "outputs": [],
   "source": [
    "### CHECK THE UPLOAD\n",
    "\n",
    "wikipedia = client.collections.get(collection)\n",
    "response = wikipedia.aggregate.over_all(total_count=True)\n",
    "print(f\"Collection size: {response.total_count}\")"
   ]
  },
  {
   "cell_type": "code",
   "execution_count": null,
   "metadata": {},
   "outputs": [],
   "source": [
    "# PRINT THE FIRST FEW OBJECTS\n",
    "import pprint as pp\n",
    "\n",
    "# # Uncomment if the client and collection object are undefined\n",
    "# wikipedia = client.collections.get(collection)\n",
    "\n",
    "response = wikipedia.query.fetch_objects(\n",
    "        include_vector=True,\n",
    "        limit=5\n",
    "        )\n",
    "\n",
    "for o in response.objects:\n",
    "    pp.pprint(o.properties)\n",
    "    print(o.vector)\n"
   ]
  },
  {
   "cell_type": "markdown",
   "metadata": {},
   "source": [
    "#   *************###############*************"
   ]
  },
  {
   "cell_type": "code",
   "execution_count": null,
   "metadata": {},
   "outputs": [],
   "source": [
    "# LIST ALL COLLECTIONS            DEBUG\n",
    "\n",
    "# List all the collections on your Weaviate instance\n",
    "response = client.collections.list_all(simple=False)\n",
    "for r in response:\n",
    "    print(f\"Collection: {r}\")\n"
   ]
  }
 ],
 "metadata": {
  "kernelspec": {
   "display_name": ".venv",
   "language": "python",
   "name": "python3"
  },
  "language_info": {
   "codemirror_mode": {
    "name": "ipython",
    "version": 3
   },
   "file_extension": ".py",
   "mimetype": "text/x-python",
   "name": "python",
   "nbconvert_exporter": "python",
   "pygments_lexer": "ipython3",
   "version": "3.10.13"
  }
 },
 "nbformat": 4,
 "nbformat_minor": 2
}
